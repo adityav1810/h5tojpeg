{
  "nbformat": 4,
  "nbformat_minor": 0,
  "metadata": {
    "colab": {
      "name": "Untitled0.ipynb",
      "provenance": []
    },
    "kernelspec": {
      "name": "python3",
      "display_name": "Python 3"
    },
    "language_info": {
      "name": "python"
    }
  },
  "cells": [
    {
      "cell_type": "code",
      "execution_count": 1,
      "metadata": {
        "id": "52UFKyH7xCWI"
      },
      "outputs": [],
      "source": [
        "import numpy as np\n",
        "import tensorflow as tf\n",
        "import h5py\n",
        "import cv2\n",
        "from google.colab.patches import cv2_imshow"
      ]
    },
    {
      "cell_type": "code",
      "source": [
        "\n",
        "def data_loader(filepath):\n",
        "    data = h5py.File(filepath, 'r')\n",
        "    x_data = np.array(data['data'])\n",
        "    y_data = np.array(data['label'])\n",
        "    x_data = x_data.transpose((0,2,3,1))\n",
        "    imgs = []\n",
        "    for i in range(len(y_data)):\n",
        "      imgs.append((x_data[i],int(y_data[i])))\n",
        "\n",
        "\n",
        "    return imgs\n"
      ],
      "metadata": {
        "id": "yePwXR1XzxZs"
      },
      "execution_count": 2,
      "outputs": []
    },
    {
      "cell_type": "code",
      "source": [
        "data_path=\"/content/drive/MyDrive/fine-pruning/data/Lab3\"\n",
        "clean_data_valid_filename = data_path+\"/cl/valid.h5\"\n",
        "clean_data_test_filename = data_path+\"/cl/test.h5\"\n",
        "\n",
        "bd_valid_filename = data_path+\"/bd/bd_valid.h5\"\n",
        "bd_test_filename = data_path+\"/bd/bd_test.h5\"\n",
        "\n"
      ],
      "metadata": {
        "id": "xVqvtnEQFbMC"
      },
      "execution_count": 3,
      "outputs": []
    },
    {
      "cell_type": "code",
      "source": [
        "import os\n",
        "\n",
        "parent_dir = '/content/bd_test/'\n",
        "\n",
        "if os.path.exists(parent_dir):\n",
        "  print(\"Parent directory exists\")\n",
        "else :\n",
        "  os.mkdir(parent_dir)\n",
        "  print(\"new parent directory created\")\n",
        "\n"
      ],
      "metadata": {
        "colab": {
          "base_uri": "https://localhost:8080/"
        },
        "id": "Rg1eWaYh43hQ",
        "outputId": "0e5a04ba-021a-4da3-ebcc-723def2d519f"
      },
      "execution_count": 18,
      "outputs": [
        {
          "output_type": "stream",
          "name": "stdout",
          "text": [
            "new parent directory created\n"
          ]
        }
      ]
    },
    {
      "cell_type": "code",
      "source": [
        "def save_image(data):\n",
        "\n",
        "  iter = 0 \n",
        "  for image_arg in data : \n",
        "    # print(image_arg[1])\n",
        "    img = image_arg[0]\n",
        "    label = image_arg[1]\n",
        "    if os.path.exists(parent_dir +str(label)):\n",
        "        cv2.imwrite(parent_dir +str(label) + \"/\"+ str(iter) + \".jpg\",img)\n",
        "        iter +=1\n",
        "    else:\n",
        "        os.mkdir(parent_dir +str(label))\n",
        "        cv2.imwrite(parent_dir +str(label) + \"/\"+ str(iter) + \".jpg\",img)\n",
        "        iter +=1\n",
        "  return(\"Successfully saved \", iter , \"images\")"
      ],
      "metadata": {
        "id": "k1s-vI6T91x9"
      },
      "execution_count": 4,
      "outputs": []
    },
    {
      "cell_type": "code",
      "source": [
        "data = save_image(data_loader(bd_test_filename))"
      ],
      "metadata": {
        "id": "i-5WAo9lGo34"
      },
      "execution_count": 19,
      "outputs": []
    },
    {
      "cell_type": "code",
      "source": [
        "data"
      ],
      "metadata": {
        "id": "0W4Gs-edG9bn"
      },
      "execution_count": null,
      "outputs": []
    },
    {
      "cell_type": "code",
      "source": [
        "!zip -r /content/bd_test.zip /content/bd_test"
      ],
      "metadata": {
        "id": "sNBpCagD8TB4"
      },
      "execution_count": null,
      "outputs": []
    },
    {
      "cell_type": "code",
      "source": [
        "data\n",
        "\n"
      ],
      "metadata": {
        "id": "K3Y6KTWmIEqU"
      },
      "execution_count": null,
      "outputs": []
    }
  ]
}